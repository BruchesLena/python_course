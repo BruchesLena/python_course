{
  "nbformat": 4,
  "nbformat_minor": 0,
  "metadata": {
    "colab": {
      "name": "Задание_numpy.ipynb",
      "version": "0.3.2",
      "provenance": []
    },
    "kernelspec": {
      "name": "python3",
      "display_name": "Python 3"
    }
  },
  "cells": [
    {
      "metadata": {
        "id": "1zL9R4fiXHLM",
        "colab_type": "text"
      },
      "cell_type": "markdown",
      "source": [
        "# Семинар 4. NumPy\n",
        "\n",
        "При выполнении заданий не используйте циклы и условные операторы. \n",
        "Внизу есть подсказки, какие функции можно/нужно использовать в некоторых из заданий, чтобы не тратить время на их поиск:)"
      ]
    },
    {
      "metadata": {
        "id": "VYjev741XMcN",
        "colab_type": "text"
      },
      "cell_type": "markdown",
      "source": [
        "1. Создайте вектор, состоящий из нулей, длиной 10."
      ]
    },
    {
      "metadata": {
        "id": "Tm4j-1qEXUQv",
        "colab_type": "code",
        "colab": {}
      },
      "cell_type": "code",
      "source": [
        "#your code"
      ],
      "execution_count": 0,
      "outputs": []
    },
    {
      "metadata": {
        "id": "8udUGXuJXZLN",
        "colab_type": "text"
      },
      "cell_type": "markdown",
      "source": [
        "2. Создайте вектор, состоящий из нулей, длиной 10, где 4-ым элементом будет 1."
      ]
    },
    {
      "metadata": {
        "id": "acKL30ZbXd4i",
        "colab_type": "code",
        "colab": {}
      },
      "cell_type": "code",
      "source": [
        "#your code"
      ],
      "execution_count": 0,
      "outputs": []
    },
    {
      "metadata": {
        "id": "Br7JJmccXfqX",
        "colab_type": "text"
      },
      "cell_type": "markdown",
      "source": [
        "3. Создайте вектор длиной 10, заполненный числом 14,8."
      ]
    },
    {
      "metadata": {
        "id": "oPpKXvsJXjMh",
        "colab_type": "code",
        "colab": {}
      },
      "cell_type": "code",
      "source": [
        "#your code"
      ],
      "execution_count": 0,
      "outputs": []
    },
    {
      "metadata": {
        "id": "szIfatLsXn5s",
        "colab_type": "text"
      },
      "cell_type": "markdown",
      "source": [
        "4. Создайте вектор со значениями от 23 до 38."
      ]
    },
    {
      "metadata": {
        "id": "h1LFE2W1XpOq",
        "colab_type": "code",
        "colab": {}
      },
      "cell_type": "code",
      "source": [
        "#your code"
      ],
      "execution_count": 0,
      "outputs": []
    },
    {
      "metadata": {
        "id": "WrldVB5BXuN9",
        "colab_type": "text"
      },
      "cell_type": "markdown",
      "source": [
        "5. Переверните вектор (последнее значение становится первым и т.д.)."
      ]
    },
    {
      "metadata": {
        "id": "kdcam5T4Xta-",
        "colab_type": "code",
        "colab": {}
      },
      "cell_type": "code",
      "source": [
        "#your code"
      ],
      "execution_count": 0,
      "outputs": []
    },
    {
      "metadata": {
        "id": "X76wPcwFX1FU",
        "colab_type": "text"
      },
      "cell_type": "markdown",
      "source": [
        "6. Из вектора длиной 9 создайте матрицу 3x3."
      ]
    },
    {
      "metadata": {
        "id": "fIfDb8rrX3UE",
        "colab_type": "code",
        "colab": {}
      },
      "cell_type": "code",
      "source": [
        "#your code"
      ],
      "execution_count": 0,
      "outputs": []
    },
    {
      "metadata": {
        "id": "gDkVef16X7Wy",
        "colab_type": "text"
      },
      "cell_type": "markdown",
      "source": [
        "7. Создайте матрицу размерностью 3x3 и значениями от 0 до 8."
      ]
    },
    {
      "metadata": {
        "id": "fLgDBLjrX841",
        "colab_type": "code",
        "colab": {}
      },
      "cell_type": "code",
      "source": [
        "#your code"
      ],
      "execution_count": 0,
      "outputs": []
    },
    {
      "metadata": {
        "id": "rsH67dSFYG-e",
        "colab_type": "text"
      },
      "cell_type": "markdown",
      "source": [
        "8. Найдите индексы ненулевых элементов в массиве `a`.\n"
      ]
    },
    {
      "metadata": {
        "id": "m4GkHiaEYOOB",
        "colab_type": "code",
        "colab": {}
      },
      "cell_type": "code",
      "source": [
        "a = np.array([1, 2, 0, 0, 4, 0])\n",
        "#your code"
      ],
      "execution_count": 0,
      "outputs": []
    },
    {
      "metadata": {
        "id": "pMrFQsVZYcsw",
        "colab_type": "text"
      },
      "cell_type": "markdown",
      "source": [
        "9. Создайте массив 10x10 со случайными значениями и найдите наименьшее и наибольшее значения в нём."
      ]
    },
    {
      "metadata": {
        "id": "N0uSEZGUYjqd",
        "colab_type": "code",
        "colab": {}
      },
      "cell_type": "code",
      "source": [
        "#your code"
      ],
      "execution_count": 0,
      "outputs": []
    },
    {
      "metadata": {
        "id": "moNKGoAaYmzo",
        "colab_type": "text"
      },
      "cell_type": "markdown",
      "source": [
        "10. Создайте вектор длиной 15 со случайными значениями и найдите индексы, содержащие наименьшее и наибольшее значения."
      ]
    },
    {
      "metadata": {
        "id": "YPlERdbeYwUm",
        "colab_type": "code",
        "colab": {}
      },
      "cell_type": "code",
      "source": [
        "#your code"
      ],
      "execution_count": 0,
      "outputs": []
    },
    {
      "metadata": {
        "id": "HZJ2j17cY3nv",
        "colab_type": "text"
      },
      "cell_type": "markdown",
      "source": [
        "11. Создайте вектор со случайными значениями размерностью 30 и вычислите среднее значение."
      ]
    },
    {
      "metadata": {
        "id": "WavvQJdlY8yt",
        "colab_type": "code",
        "colab": {}
      },
      "cell_type": "code",
      "source": [
        "#your code"
      ],
      "execution_count": 0,
      "outputs": []
    },
    {
      "metadata": {
        "id": "1IQ_5aG_ZAEd",
        "colab_type": "text"
      },
      "cell_type": "markdown",
      "source": [
        "12. Создайте вектор со случайными значениями размерностью 3х10 и вычислите отдельно среднее значение в каждой строке (размерность итогового массива 3х1) и в каждом столбце (размерность итогового массива 10x1)."
      ]
    },
    {
      "metadata": {
        "id": "tefID2iZY_Yr",
        "colab_type": "code",
        "colab": {}
      },
      "cell_type": "code",
      "source": [
        "#your code"
      ],
      "execution_count": 0,
      "outputs": []
    },
    {
      "metadata": {
        "id": "f0FZM3oCZK9v",
        "colab_type": "text"
      },
      "cell_type": "markdown",
      "source": [
        "13. Добавьте границы (состоящие из нулей) вокруг существующего массива. В итоге должен получиться массив такого вида:\n",
        "\n",
        "``` \n",
        "00000\n",
        "01110\n",
        "01110\n",
        "00000\n",
        " ```"
      ]
    },
    {
      "metadata": {
        "id": "ux03YRnwZdCl",
        "colab_type": "code",
        "colab": {}
      },
      "cell_type": "code",
      "source": [
        "#your code"
      ],
      "execution_count": 0,
      "outputs": []
    },
    {
      "metadata": {
        "id": "Vvo8v25AZkKD",
        "colab_type": "text"
      },
      "cell_type": "markdown",
      "source": [
        "14. Умножьте матрицу 5x3 на матрицу 3х2."
      ]
    },
    {
      "metadata": {
        "id": "pqYsokZCZl_J",
        "colab_type": "code",
        "colab": {}
      },
      "cell_type": "code",
      "source": [
        "#your code"
      ],
      "execution_count": 0,
      "outputs": []
    },
    {
      "metadata": {
        "id": "4BJkjmgSZpci",
        "colab_type": "text"
      },
      "cell_type": "markdown",
      "source": [
        "15. Найдите общие значения двух массивов (элементы в их пересечении)."
      ]
    },
    {
      "metadata": {
        "id": "YPzbPVnRZrN9",
        "colab_type": "code",
        "colab": {}
      },
      "cell_type": "code",
      "source": [
        "#your code"
      ],
      "execution_count": 0,
      "outputs": []
    },
    {
      "metadata": {
        "id": "_SsPWVspZuFS",
        "colab_type": "text"
      },
      "cell_type": "markdown",
      "source": [
        "16. Создайте вектор со случайными значениями длиной 10 и отсортируйте его."
      ]
    },
    {
      "metadata": {
        "id": "Aos67m-oZxXm",
        "colab_type": "code",
        "colab": {}
      },
      "cell_type": "code",
      "source": [
        "#your code"
      ],
      "execution_count": 0,
      "outputs": []
    },
    {
      "metadata": {
        "id": "pvF2-2AGZ0qS",
        "colab_type": "text"
      },
      "cell_type": "markdown",
      "source": [
        "17. Создайте вектор со случайными значениями размерностью 10 и замените наибольшее значение нулём."
      ]
    },
    {
      "metadata": {
        "id": "sL-JNslTZ389",
        "colab_type": "code",
        "colab": {}
      },
      "cell_type": "code",
      "source": [
        "#your code"
      ],
      "execution_count": 0,
      "outputs": []
    },
    {
      "metadata": {
        "id": "5R-wvp73Z6d_",
        "colab_type": "text"
      },
      "cell_type": "markdown",
      "source": [
        "18. Создайте матрицу 3х3 и “растяните” её в вектор (так, чтобы размерность стала 1х9) по крайней мере двумя способами.\n"
      ]
    },
    {
      "metadata": {
        "id": "A_acCUK3aMn4",
        "colab_type": "code",
        "colab": {}
      },
      "cell_type": "code",
      "source": [
        "#your code"
      ],
      "execution_count": 0,
      "outputs": []
    },
    {
      "metadata": {
        "id": "H86sL5kbaNVX",
        "colab_type": "text"
      },
      "cell_type": "markdown",
      "source": [
        "19. Создайте матрицу 4х4 и вычтите максимальное значение из каждой строки в матрице."
      ]
    },
    {
      "metadata": {
        "id": "Mf2QGutKaQV0",
        "colab_type": "code",
        "colab": {}
      },
      "cell_type": "code",
      "source": [
        "#your code"
      ],
      "execution_count": 0,
      "outputs": []
    },
    {
      "metadata": {
        "id": "E9nTmiNsaTwr",
        "colab_type": "text"
      },
      "cell_type": "markdown",
      "source": [
        "20. Считайте массив из текстового файла (предварительно его создав, элементы массива - числа с плавающей точкой (float)) и совершите над ним какую-либо операцию."
      ]
    },
    {
      "metadata": {
        "id": "zwsrjJxvaXmR",
        "colab_type": "code",
        "colab": {}
      },
      "cell_type": "code",
      "source": [
        "#your code"
      ],
      "execution_count": 0,
      "outputs": []
    },
    {
      "metadata": {
        "id": "r7ASlvEjabU7",
        "colab_type": "text"
      },
      "cell_type": "markdown",
      "source": [
        "\n",
        "\n",
        "---\n",
        "\n",
        "# Подсказки\n",
        "\n",
        "1. zeros\n",
        "3. full\n",
        "4. arange\n",
        "6. reshape\n",
        "8. nonzero\n",
        "9. Для создания массива со случайными значениями: np.random.random(shape), shape - размерность массива. Не забудьте, что если shape > 1, то размерности передаются в виде кортежа!\n",
        "10. argmax, argmin\n",
        "11. mean\n",
        "13. pad\n",
        "14. dot\n",
        "15. Инициализировать массивы можно функцией np.random.randint() - в качестве аргументов передайте свои значения. Пересечение - intersect1d\n",
        "16. sort\n",
        "18. Один способ - flatten, другой уже использовался в предыдущих заданиях.\n",
        "20. fromfile"
      ]
    }
  ]
}