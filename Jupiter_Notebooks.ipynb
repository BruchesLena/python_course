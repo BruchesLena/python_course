{
  "nbformat": 4,
  "nbformat_minor": 0,
  "metadata": {
    "colab": {
      "name": "Jupiter Notebooks.ipynb",
      "version": "0.3.2",
      "provenance": []
    },
    "kernelspec": {
      "name": "python3",
      "display_name": "Python 3"
    }
  },
  "cells": [
    {
      "metadata": {
        "id": "JHYTgUPeloOd",
        "colab_type": "text"
      },
      "cell_type": "markdown",
      "source": [
        "#Jupyter Notebooks\n",
        "\n",
        "Jupyter Notebooks  - инструмент для разработки, визуализации и представления Ваших проектов. Он представляет собой набор ячеек (cells), в которых может быть текст в Markdown (как в этой ячейке)  или код (как например, в следующей). Запустите следующую ячейку с кодом (слева от ячейки \"run\" или ctrl+enter), чтобы посмотреть, как она работает."
      ]
    },
    {
      "metadata": {
        "id": "ilgAOtvsKI0s",
        "colab_type": "code",
        "colab": {}
      },
      "cell_type": "code",
      "source": [
        "2+3"
      ],
      "execution_count": 0,
      "outputs": []
    },
    {
      "metadata": {
        "id": "JrAJZ-VtOExA",
        "colab_type": "text"
      },
      "cell_type": "markdown",
      "source": [
        "Или следующая:"
      ]
    },
    {
      "metadata": {
        "id": "IrNPb0_NOEMR",
        "colab_type": "code",
        "colab": {}
      },
      "cell_type": "code",
      "source": [
        "print (2+3)"
      ],
      "execution_count": 0,
      "outputs": []
    },
    {
      "metadata": {
        "id": "lBeDUumDObIK",
        "colab_type": "text"
      },
      "cell_type": "markdown",
      "source": [
        "И ещё один пример:"
      ]
    },
    {
      "metadata": {
        "id": "N44N6SyxOfNg",
        "colab_type": "code",
        "colab": {}
      },
      "cell_type": "code",
      "source": [
        "for i in range(10):\n",
        "  print (i)"
      ],
      "execution_count": 0,
      "outputs": []
    },
    {
      "metadata": {
        "id": "zKbvzZVBO6Yz",
        "colab_type": "text"
      },
      "cell_type": "markdown",
      "source": [
        "Или можно написать функцию в одной ячейке:"
      ]
    },
    {
      "metadata": {
        "id": "ArNZSD1ZPBzF",
        "colab_type": "code",
        "colab": {}
      },
      "cell_type": "code",
      "source": [
        "def print_name(name):\n",
        "  print ('Hello,', name)"
      ],
      "execution_count": 0,
      "outputs": []
    },
    {
      "metadata": {
        "id": "vmV8i9JiPL4g",
        "colab_type": "text"
      },
      "cell_type": "markdown",
      "source": [
        "...и вызвать эту функцию в другой ячейке (не забудьте запустить ячейку с функцией!):"
      ]
    },
    {
      "metadata": {
        "id": "PQZnzE-7PUaP",
        "colab_type": "code",
        "colab": {}
      },
      "cell_type": "code",
      "source": [
        "print_name('John')"
      ],
      "execution_count": 0,
      "outputs": []
    }
  ]
}