{
  "nbformat": 4,
  "nbformat_minor": 0,
  "metadata": {
    "colab": {
      "name": "Matplotlib.ipynb",
      "version": "0.3.2",
      "provenance": []
    },
    "kernelspec": {
      "name": "python3",
      "display_name": "Python 3"
    }
  },
  "cells": [
    {
      "metadata": {
        "id": "YKKRTtQE45dq",
        "colab_type": "text"
      },
      "cell_type": "markdown",
      "source": [
        "# MatPlotLib\n",
        "\n",
        "Библиотека matplotlib - это бибилиотека двумерной графики для языка программирования python с помощью которой можно создавать высококачественные рисунки различных форматов. Matplotlib представляет собой модуль-пакет для python."
      ]
    },
    {
      "metadata": {
        "id": "PFhnMCDo6Gf5",
        "colab_type": "text"
      },
      "cell_type": "markdown",
      "source": [
        "Давайте построим простейший график:"
      ]
    },
    {
      "metadata": {
        "id": "G8DRT1yG443F",
        "colab_type": "code",
        "colab": {}
      },
      "cell_type": "code",
      "source": [
        "import matplotlib.pyplot as plt\n",
        "\n",
        "plt.plot([1, 2, 3, 4])\n",
        "plt.ylabel('some numbers')\n",
        "plt.show()"
      ],
      "execution_count": 0,
      "outputs": []
    },
    {
      "metadata": {
        "id": "c539-eH_7cSq",
        "colab_type": "text"
      },
      "cell_type": "markdown",
      "source": [
        "Функция *plot()* принимает на вход координаты точек, через которые будет проходить линия. Передавать координаты можно несколькими способами:\n",
        "1. Передать один массив (как в примере выше), в этом случае предполагается, что переданы координаты по оси *y*, а координаты по оси *x* - *0..N-1* по умолчанию;\n",
        "2. Передать два массива: первый с координатами по оси *x*, второй - по оси *y*. Учтите, что длины массивов должны совпадать!"
      ]
    },
    {
      "metadata": {
        "id": "rHtq_S3G8kFc",
        "colab_type": "text"
      },
      "cell_type": "markdown",
      "source": [
        "Создайте график вторым способом так, чтобы у вас получился зигзагообразная линия:"
      ]
    },
    {
      "metadata": {
        "id": "hviDPPW38stJ",
        "colab_type": "code",
        "colab": {}
      },
      "cell_type": "code",
      "source": [
        "plt.plot() # заполните параметры функции\n",
        "plt.ylabel('some numbers')\n",
        "plt.show()"
      ],
      "execution_count": 0,
      "outputs": []
    },
    {
      "metadata": {
        "id": "1haEwjN19Gvw",
        "colab_type": "text"
      },
      "cell_type": "markdown",
      "source": [
        "Функция plot() также принимает третий аргумент, который указывает тип и цвет объекта, который будет изображён. По умолчанию - это синяя линяя.\n",
        "\n",
        "Такой аргумент рисует красные точки:"
      ]
    },
    {
      "metadata": {
        "id": "19mnx7_r9c1w",
        "colab_type": "code",
        "colab": {}
      },
      "cell_type": "code",
      "source": [
        "plt.plot([1,2,3,4], [1,4,9,16], 'ro')\n",
        "plt.show()"
      ],
      "execution_count": 0,
      "outputs": []
    },
    {
      "metadata": {
        "id": "LyN_Bx9G924K",
        "colab_type": "text"
      },
      "cell_type": "markdown",
      "source": [
        "В [документации](https://matplotlib.org/api/_as_gen/matplotlib.pyplot.plot.html) приведены обозначения для различных фигур.\n",
        "\n",
        "Постройте любой график с зелёными треугольниками:"
      ]
    },
    {
      "metadata": {
        "id": "SCQKKQC0-INa",
        "colab_type": "code",
        "colab": {}
      },
      "cell_type": "code",
      "source": [
        "plt.plot([1,2,3,4], [1,4,9,16], 'gv')\n",
        "plt.show()"
      ],
      "execution_count": 0,
      "outputs": []
    },
    {
      "metadata": {
        "id": "eXDmpPimOBb7",
        "colab_type": "text"
      },
      "cell_type": "markdown",
      "source": [
        "Вызывая несколько раз функцию ```plot()``` можна построить несколько линий на одном графике:"
      ]
    },
    {
      "metadata": {
        "id": "_12u8ZNWN1uq",
        "colab_type": "code",
        "colab": {}
      },
      "cell_type": "code",
      "source": [
        "import numpy as np\n",
        "\n",
        "t = np.arange(0., 5., 0.2)\n",
        "\n",
        "plt.plot(t, t, 'r--')\n",
        "plt.plot(t, t**2, 'bs')\n",
        "plt.plot(t, t**3, 'g^')\n",
        "plt.show()"
      ],
      "execution_count": 0,
      "outputs": []
    },
    {
      "metadata": {
        "id": "32nVi8JE-4NC",
        "colab_type": "text"
      },
      "cell_type": "markdown",
      "source": [
        "Также можно нарисовать несколько разных линий за одну команду:"
      ]
    },
    {
      "metadata": {
        "id": "Ui3TdmSG-9x1",
        "colab_type": "code",
        "colab": {}
      },
      "cell_type": "code",
      "source": [
        "t = np.arange(0., 5., 0.2)\n",
        "\n",
        "plt.plot(t, t, 'r--', t, t**2, 'bs', t, t**3, 'g^')\n",
        "plt.show()"
      ],
      "execution_count": 0,
      "outputs": []
    },
    {
      "metadata": {
        "id": "02wGtvxp_NH3",
        "colab_type": "text"
      },
      "cell_type": "markdown",
      "source": [
        "Создайте вектор длины 10 со случайными значениями и постройте также несколько линий за одну команду (используйте функции, отличные от тех, что приведены в примере выше, для построения графиков!):"
      ]
    },
    {
      "metadata": {
        "id": "2Fh7FinF_h85",
        "colab_type": "code",
        "colab": {}
      },
      "cell_type": "code",
      "source": [
        "# ваш код"
      ],
      "execution_count": 0,
      "outputs": []
    },
    {
      "metadata": {
        "id": "MjddvJabBJHx",
        "colab_type": "text"
      },
      "cell_type": "markdown",
      "source": [
        "Другие возможные настройки фигур можно посмотреть, вызвав функцию ниже:"
      ]
    },
    {
      "metadata": {
        "id": "6ZWr-9vrBQZz",
        "colab_type": "code",
        "colab": {}
      },
      "cell_type": "code",
      "source": [
        "lines = plt.plot([1, 2, 3])\n",
        "plt.setp(lines)"
      ],
      "execution_count": 0,
      "outputs": []
    },
    {
      "metadata": {
        "id": "3f74_2LqFXkC",
        "colab_type": "text"
      },
      "cell_type": "markdown",
      "source": [
        "# Работа с текстом\n",
        "\n",
        "*xlabel()*, *ylabel()* и *title()*  используются для добавления текста в указанные позиции:"
      ]
    },
    {
      "metadata": {
        "id": "d5rOe8bXIpwc",
        "colab_type": "code",
        "colab": {}
      },
      "cell_type": "code",
      "source": [
        "# Fixing random state for reproducibility\n",
        "np.random.seed(19680801)\n",
        "\n",
        "mu, sigma = 100, 15\n",
        "x = mu + sigma * np.random.randn(10000)\n",
        "\n",
        "# the histogram of the data\n",
        "n, bins, patches = plt.hist(x, 50, normed=1, facecolor='g', alpha=0.75)\n",
        "\n",
        "\n",
        "plt.xlabel('Smarts')\n",
        "plt.ylabel('Probability')\n",
        "plt.title('Histogram of IQ')\n",
        "plt.text(60, .025, r'$\\mu=100,\\ \\sigma=15$')\n",
        "plt.axis([40, 160, 0, 0.03])\n",
        "plt.grid(True)\n",
        "plt.show()"
      ],
      "execution_count": 0,
      "outputs": []
    },
    {
      "metadata": {
        "id": "likfStagI0xC",
        "colab_type": "text"
      },
      "cell_type": "markdown",
      "source": [
        "Создайте любой график и подпишите у него заголовок и названия осей:"
      ]
    },
    {
      "metadata": {
        "id": "dtTOH2YMI8EU",
        "colab_type": "code",
        "colab": {}
      },
      "cell_type": "code",
      "source": [
        "# ваш код"
      ],
      "execution_count": 0,
      "outputs": []
    },
    {
      "metadata": {
        "id": "cjRwuxD6Joew",
        "colab_type": "text"
      },
      "cell_type": "markdown",
      "source": [
        "Также можно вставлять текст в произвольном месте рисунка. Изучите код ниже (главным образом строку с функцией  ```plt.annotate()```), убедитесь, что вы его понимаете и измените код следующим образом:\n",
        "Укажите на локальный минимум (любой) зелёной стрелочкой и текстом \"local min\"."
      ]
    },
    {
      "metadata": {
        "id": "l2jcTBItJG8O",
        "colab_type": "code",
        "colab": {}
      },
      "cell_type": "code",
      "source": [
        "ax = plt.subplot(111)\n",
        "\n",
        "t = np.arange(0.0, 5.0, 0.01)\n",
        "s = np.cos(2*np.pi*t)\n",
        "line, = plt.plot(t, s, lw=2)\n",
        "\n",
        "plt.annotate('local max', xy=(2, 1), xytext=(3, 1.5),\n",
        "            arrowprops=dict(facecolor='black', shrink=0.05),\n",
        "            )\n",
        "\n",
        "plt.ylim(-2,2)\n",
        "plt.show()"
      ],
      "execution_count": 0,
      "outputs": []
    },
    {
      "metadata": {
        "id": "uFD1DnJ6LkmT",
        "colab_type": "text"
      },
      "cell_type": "markdown",
      "source": [
        "Постройте график любой функции (которой ещё не было в примерах), укажите название самого графика и осей, подпишите некоторые элементы на графике (выберите любые +- значимые элементы вашей функции):"
      ]
    },
    {
      "metadata": {
        "id": "VKV_UfriLj91",
        "colab_type": "code",
        "colab": {}
      },
      "cell_type": "code",
      "source": [
        "# ваш код"
      ],
      "execution_count": 0,
      "outputs": []
    },
    {
      "metadata": {
        "id": "FPp2zVT6Okic",
        "colab_type": "text"
      },
      "cell_type": "markdown",
      "source": [
        "Постройте несколько линий (можно две) разных цветов на одном графике, отображающих динамику чего-либо. Данные можно найти или придумать самим:)\n",
        "\n",
        "В результате должен получиться рисунок такого типа:\n",
        "\n",
        "![](https://www.w3resource.com/w3r_images/matplotlib-basic-exercise-4.png)"
      ]
    },
    {
      "metadata": {
        "id": "CuJve_nMPH4h",
        "colab_type": "code",
        "colab": {}
      },
      "cell_type": "code",
      "source": [
        "# ваш код"
      ],
      "execution_count": 0,
      "outputs": []
    }
  ]
}